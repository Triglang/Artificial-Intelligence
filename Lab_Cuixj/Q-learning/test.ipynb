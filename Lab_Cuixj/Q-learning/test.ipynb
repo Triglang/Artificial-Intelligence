{
 "cells": [
  {
   "cell_type": "code",
   "execution_count": 1,
   "id": "6d6cdaaf",
   "metadata": {},
   "outputs": [],
   "source": [
    "from maze_env import Maze, MAZE_H, MAZE_W\n",
    "from RL_q_learning import QLearning\n",
    "from RL_sarsa import Sarsa"
   ]
  },
  {
   "cell_type": "code",
   "execution_count": 2,
   "id": "4ddea345",
   "metadata": {},
   "outputs": [],
   "source": [
    "import numpy as np\n",
    "a = np.array([1,2,3,4])"
   ]
  },
  {
   "cell_type": "code",
   "execution_count": 3,
   "id": "19a0796f",
   "metadata": {},
   "outputs": [],
   "source": [
    "b = a[:2]\n",
    "c = a[3:]"
   ]
  },
  {
   "cell_type": "code",
   "execution_count": 5,
   "id": "63d84477",
   "metadata": {},
   "outputs": [
    {
     "data": {
      "text/plain": [
       "array([1, 2, 4])"
      ]
     },
     "execution_count": 5,
     "metadata": {},
     "output_type": "execute_result"
    }
   ],
   "source": [
    "np.concat([b, c])"
   ]
  }
 ],
 "metadata": {
  "kernelspec": {
   "display_name": "pytorch",
   "language": "python",
   "name": "python3"
  },
  "language_info": {
   "codemirror_mode": {
    "name": "ipython",
    "version": 3
   },
   "file_extension": ".py",
   "mimetype": "text/x-python",
   "name": "python",
   "nbconvert_exporter": "python",
   "pygments_lexer": "ipython3",
   "version": "3.12.9"
  }
 },
 "nbformat": 4,
 "nbformat_minor": 5
}
